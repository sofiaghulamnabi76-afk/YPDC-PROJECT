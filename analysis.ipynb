{
 "cells": [
  {
   "cell_type": "code",
   "execution_count": 4,
   "id": "2f8d5de5",
   "metadata": {},
   "outputs": [],
   "source": [
    "import pandas as pd\n",
    "import numpy as np\n",
    "import matplotlib.pyplot as plt\n",
    "import seaborn as sns"
   ]
  },
  {
   "cell_type": "code",
   "execution_count": 5,
   "id": "bb545021",
   "metadata": {},
   "outputs": [],
   "source": [
    "# Load dataset\n",
    "df = pd.read_csv(\"data/Student Mental health.csv\")"
   ]
  },
  {
   "cell_type": "code",
   "execution_count": 8,
   "id": "a6d90722",
   "metadata": {},
   "outputs": [
    {
     "name": "stdout",
     "output_type": "stream",
     "text": [
      "First 5 Rows of the Dataset:\n"
     ]
    }
   ],
   "source": [
    "\n",
    "print(\"First 5 Rows of the Dataset:\")"
   ]
  },
  {
   "cell_type": "code",
   "execution_count": 58,
   "id": "ea041636",
   "metadata": {},
   "outputs": [
    {
     "name": "stdout",
     "output_type": "stream",
     "text": [
      "             Age  What is your CGPA?\n",
      "count  100.00000                 0.0\n",
      "mean    20.53000                 NaN\n",
      "std      2.49628                 NaN\n",
      "min     18.00000                 NaN\n",
      "25%     18.00000                 NaN\n",
      "50%     19.00000                 NaN\n",
      "75%     23.00000                 NaN\n",
      "max     24.00000                 NaN\n"
     ]
    }
   ],
   "source": [
    "print(df.describe())"
   ]
  },
  {
   "cell_type": "code",
   "execution_count": 9,
   "id": "359e8a0b",
   "metadata": {},
   "outputs": [
    {
     "name": "stdout",
     "output_type": "stream",
     "text": [
      "        Timestamp Choose your gender   Age What is your course?  \\\n",
      "0  8/7/2020 12:02             Female  18.0          Engineering   \n",
      "1  8/7/2020 12:04               Male  21.0    Islamic education   \n",
      "2  8/7/2020 12:05               Male  19.0                  BIT   \n",
      "3  8/7/2020 12:06             Female  22.0                 Laws   \n",
      "4  8/7/2020 12:13               Male  23.0         Mathemathics   \n",
      "\n",
      "  Your current year of Study What is your CGPA? Marital status  \\\n",
      "0                     year 1        3.00 - 3.49             No   \n",
      "1                     year 2        3.00 - 3.49             No   \n",
      "2                     Year 1        3.00 - 3.49             No   \n",
      "3                     year 3        3.00 - 3.49            Yes   \n",
      "4                     year 4        3.00 - 3.49             No   \n",
      "\n",
      "  Do you have Depression? Do you have Anxiety? Do you have Panic attack?  \\\n",
      "0                     Yes                   No                       Yes   \n",
      "1                      No                  Yes                        No   \n",
      "2                     Yes                  Yes                       Yes   \n",
      "3                     Yes                   No                        No   \n",
      "4                      No                   No                        No   \n",
      "\n",
      "  Did you seek any specialist for a treatment?  \n",
      "0                                           No  \n",
      "1                                           No  \n",
      "2                                           No  \n",
      "3                                           No  \n",
      "4                                           No  \n"
     ]
    }
   ],
   "source": [
    "print(df.head())\n"
   ]
  },
  {
   "cell_type": "code",
   "execution_count": 13,
   "id": "4c389a6a",
   "metadata": {},
   "outputs": [
    {
     "name": "stdout",
     "output_type": "stream",
     "text": [
      "Dataset Info\n",
      "<class 'pandas.core.frame.DataFrame'>\n",
      "RangeIndex: 101 entries, 0 to 100\n",
      "Data columns (total 11 columns):\n",
      " #   Column                                        Non-Null Count  Dtype  \n",
      "---  ------                                        --------------  -----  \n",
      " 0   Timestamp                                     101 non-null    object \n",
      " 1   Choose your gender                            101 non-null    object \n",
      " 2   Age                                           100 non-null    float64\n",
      " 3   What is your course?                          101 non-null    object \n",
      " 4   Your current year of Study                    101 non-null    object \n",
      " 5   What is your CGPA?                            101 non-null    object \n",
      " 6   Marital status                                101 non-null    object \n",
      " 7   Do you have Depression?                       101 non-null    object \n",
      " 8   Do you have Anxiety?                          101 non-null    object \n",
      " 9   Do you have Panic attack?                     101 non-null    object \n",
      " 10  Did you seek any specialist for a treatment?  101 non-null    object \n",
      "dtypes: float64(1), object(10)\n",
      "memory usage: 8.8+ KB\n",
      "None\n",
      "missing values in each column:\n"
     ]
    }
   ],
   "source": [
    "print(\"Dataset Info\")\n",
    "print(df.info())\n",
    "print(\"missing values in each column:\")\n"
   ]
  },
  {
   "cell_type": "code",
   "execution_count": 15,
   "id": "239d5bd0",
   "metadata": {},
   "outputs": [
    {
     "name": "stdout",
     "output_type": "stream",
     "text": [
      "Null Values\n",
      "Timestamp                                       0\n",
      "Choose your gender                              0\n",
      "Age                                             1\n",
      "What is your course?                            0\n",
      "Your current year of Study                      0\n",
      "What is your CGPA?                              0\n",
      "Marital status                                  0\n",
      "Do you have Depression?                         0\n",
      "Do you have Anxiety?                            0\n",
      "Do you have Panic attack?                       0\n",
      "Did you seek any specialist for a treatment?    0\n",
      "dtype: int64\n"
     ]
    }
   ],
   "source": [
    "print(\"Null Values\")\n",
    "print(df.isnull().sum())\n"
   ]
  },
  {
   "cell_type": "code",
   "execution_count": 37,
   "id": "8841418b",
   "metadata": {},
   "outputs": [
    {
     "name": "stdout",
     "output_type": "stream",
     "text": [
      "Columns in DataFrame:\n",
      "Index(['Timestamp', 'Choose your gender', 'Age', 'What is your course?',\n",
      "       'Your current year of Study', 'What is your CGPA?', 'Marital status',\n",
      "       'Do you have Depression?', 'Do you have Anxiety?',\n",
      "       'Do you have Panic attack?',\n",
      "       'Did you seek any specialist for a treatment?'],\n",
      "      dtype='object')\n"
     ]
    }
   ],
   "source": [
    "print(\"Columns in DataFrame:\")\n",
    "print(df.columns)"
   ]
  },
  {
   "cell_type": "code",
   "execution_count": 26,
   "id": "b75c7347",
   "metadata": {},
   "outputs": [
    {
     "name": "stdout",
     "output_type": "stream",
     "text": [
      "Using iloc (first 5 rows, first 3 columns\n",
      "        Timestamp Choose your gender   Age\n",
      "0  8/7/2020 12:02             Female  18.0\n",
      "1  8/7/2020 12:04               Male  21.0\n",
      "2  8/7/2020 12:05               Male  19.0\n",
      "3  8/7/2020 12:06             Female  22.0\n",
      "4  8/7/2020 12:13               Male  23.0\n"
     ]
    }
   ],
   "source": [
    "\n",
    "#  iloc (index based selection)\n",
    "print(\"Using iloc (first 5 rows, first 3 columns\")\n",
    "print(df.iloc[0:5, 0:3])"
   ]
  },
  {
   "cell_type": "code",
   "execution_count": 27,
   "id": "b62e7a8b",
   "metadata": {},
   "outputs": [
    {
     "name": "stdout",
     "output_type": "stream",
     "text": [
      "Using loc (Female students with Depression status)\n",
      "     Age What is your course? Do you have Depression?\n",
      "0   18.0          Engineering                     Yes\n",
      "3   22.0                 Laws                     Yes\n",
      "6   23.0     Pendidikan islam                     Yes\n",
      "7   18.0                  BCS                      No\n",
      "8   19.0      Human Resources                      No\n",
      "..   ...                  ...                     ...\n",
      "94  24.0                 Fiqh                      No\n",
      "95  18.0    Islamic Education                      No\n",
      "96  21.0                  BCS                      No\n",
      "98  19.0             Nursing                      Yes\n",
      "99  23.0     Pendidikan Islam                      No\n",
      "\n",
      "[75 rows x 3 columns]\n"
     ]
    }
   ],
   "source": [
    "#loc\n",
    "print(\"Using loc (Female students with Depression status)\")\n",
    "print(df.loc[df[\"Choose your gender\"] == \"Female\", [\"Age\", \"What is your course?\", \"Do you have Depression?\"]])"
   ]
  },
  {
   "cell_type": "code",
   "execution_count": 30,
   "id": "f44da79d",
   "metadata": {},
   "outputs": [
    {
     "data": {
      "image/png": "[encoded data removed]",
      "text/plain": [
       "<Figure size 600x400 with 1 Axes>"
      ]
     },
     "metadata": {},
     "output_type": "display_data"
    }
   ],
   "source": [
    "# Gender Distribution\n",
    "plt.figure(figsize=(6,4))\n",
    "sns.countplot(x=\"Choose your gender\", data=df)\n",
    "plt.title(\"Gender Distribution\")\n",
    "plt.show()"
   ]
  },
  {
   "cell_type": "code",
   "execution_count": 51,
   "id": "3dc899b9",
   "metadata": {},
   "outputs": [
    {
     "name": "stdout",
     "output_type": "stream",
     "text": [
      "Columns in DataFrame:\n",
      "Index(['Timestamp', 'Choose your gender', 'Age', 'What is your course?',\n",
      "       'Your current year of Study', 'What is your CGPA?', 'Marital status',\n",
      "       'Do you have Depression?', 'Do you have Anxiety?',\n",
      "       'Do you have Panic attack?',\n",
      "       'Did you seek any specialist for a treatment?'],\n",
      "      dtype='object')\n"
     ]
    }
   ],
   "source": [
    "print(\"Columns in DataFrame:\")\n",
    "print(df.columns)"
   ]
  },
  {
   "cell_type": "code",
   "execution_count": 56,
   "id": "a8764cc5",
   "metadata": {},
   "outputs": [
    {
     "data": {
      "image/png": "[encoded data removed]",
      "text/plain": [
       "<Figure size 1000x600 with 1 Axes>"
      ]
     },
     "metadata": {},
     "output_type": "display_data"
    }
   ],
   "source": [
    "plt.figure(figsize=(10,6))\n",
    "sns.boxplot(data=df.select_dtypes(include='number'))\n",
    "plt.title(\"Boxplot of All Numeric Columns\")\n",
    "plt.show()"
   ]
  },
  {
   "cell_type": "code",
   "execution_count": 55,
   "id": "6f2b8a98",
   "metadata": {},
   "outputs": [
    {
     "data": {
      "image/png": "[encoded data removed]",
      "text/plain": [
       "<Figure size 600x400 with 1 Axes>"
      ]
     },
     "metadata": {},
     "output_type": "display_data"
    }
   ],
   "source": [
    "#Panic attacks vs marital status\n",
    "plt.figure(figsize=(6,4))\n",
    "sns.boxplot(x=\"Do you have Panic attack?\", y=\"Marital status\", data=df)\n",
    "plt.title(\"Panic attack vs Marital status\")\n",
    "plt.show()"
   ]
  },
  {
   "cell_type": "code",
   "execution_count": 39,
   "id": "2956aa04",
   "metadata": {},
   "outputs": [
    {
     "data": {
      "image/png": "[encoded data removed]",
      "text/plain": [
       "<Figure size 600x400 with 1 Axes>"
      ]
     },
     "metadata": {},
     "output_type": "display_data"
    }
   ],
   "source": [
    "# Depression vs Anxiet\n",
    "plt.figure(figsize=(6,4))\n",
    "sns.boxplot(x=\"Do you have Depression?\", y=\"Do you have Anxiety?\", data=df)\n",
    "plt.title(\"Depression vs Anxiety\")\n",
    "plt.show()\n"
   ]
  },
  {
   "cell_type": "code",
   "execution_count": 41,
   "id": "18703338",
   "metadata": {},
   "outputs": [
    {
     "data": {
      "text/html": [
       "<div>\n",
       "<style scoped>\n",
       "    .dataframe tbody tr th:only-of-type {\n",
       "        vertical-align: middle;\n",
       "    }\n",
       "\n",
       "    .dataframe tbody tr th {\n",
       "        vertical-align: top;\n",
       "    }\n",
       "\n",
       "    .dataframe thead th {\n",
       "        text-align: right;\n",
       "    }\n",
       "</style>\n",
       "<table border=\"1\" class=\"dataframe\">\n",
       "  <thead>\n",
       "    <tr style=\"text-align: right;\">\n",
       "      <th></th>\n",
       "      <th>Your current year of Study</th>\n",
       "      <th>What is your CGPA?</th>\n",
       "    </tr>\n",
       "  </thead>\n",
       "  <tbody>\n",
       "    <tr>\n",
       "      <th>0</th>\n",
       "      <td>year 1</td>\n",
       "      <td>3.00 - 3.49</td>\n",
       "    </tr>\n",
       "    <tr>\n",
       "      <th>1</th>\n",
       "      <td>year 2</td>\n",
       "      <td>3.00 - 3.49</td>\n",
       "    </tr>\n",
       "    <tr>\n",
       "      <th>2</th>\n",
       "      <td>Year 1</td>\n",
       "      <td>3.00 - 3.49</td>\n",
       "    </tr>\n",
       "    <tr>\n",
       "      <th>3</th>\n",
       "      <td>year 3</td>\n",
       "      <td>3.00 - 3.49</td>\n",
       "    </tr>\n",
       "    <tr>\n",
       "      <th>4</th>\n",
       "      <td>year 4</td>\n",
       "      <td>3.00 - 3.49</td>\n",
       "    </tr>\n",
       "    <tr>\n",
       "      <th>...</th>\n",
       "      <td>...</td>\n",
       "      <td>...</td>\n",
       "    </tr>\n",
       "    <tr>\n",
       "      <th>96</th>\n",
       "      <td>year 1</td>\n",
       "      <td>3.50 - 4.00</td>\n",
       "    </tr>\n",
       "    <tr>\n",
       "      <th>97</th>\n",
       "      <td>Year 2</td>\n",
       "      <td>3.00 - 3.49</td>\n",
       "    </tr>\n",
       "    <tr>\n",
       "      <th>98</th>\n",
       "      <td>Year 3</td>\n",
       "      <td>3.50 - 4.00</td>\n",
       "    </tr>\n",
       "    <tr>\n",
       "      <th>99</th>\n",
       "      <td>year 4</td>\n",
       "      <td>3.50 - 4.00</td>\n",
       "    </tr>\n",
       "    <tr>\n",
       "      <th>100</th>\n",
       "      <td>Year 2</td>\n",
       "      <td>3.00 - 3.49</td>\n",
       "    </tr>\n",
       "  </tbody>\n",
       "</table>\n",
       "<p>101 rows × 2 columns</p>\n",
       "</div>"
      ],
      "text/plain": [
       "    Your current year of Study What is your CGPA?\n",
       "0                       year 1        3.00 - 3.49\n",
       "1                       year 2        3.00 - 3.49\n",
       "2                       Year 1        3.00 - 3.49\n",
       "3                       year 3        3.00 - 3.49\n",
       "4                       year 4        3.00 - 3.49\n",
       "..                         ...                ...\n",
       "96                      year 1        3.50 - 4.00\n",
       "97                      Year 2        3.00 - 3.49\n",
       "98                      Year 3        3.50 - 4.00\n",
       "99                      year 4        3.50 - 4.00\n",
       "100                     Year 2        3.00 - 3.49\n",
       "\n",
       "[101 rows x 2 columns]"
      ]
     },
     "execution_count": 41,
     "metadata": {},
     "output_type": "execute_result"
    }
   ],
   "source": [
    "# loc → column names \n",
    "df.loc[:, [\"Do you have Depression?\", \"Do you have Anxiety?\"]]\n",
    "\n",
    "# iloc → column positions\n",
    "df.iloc[:, [4, 5]]\n"
   ]
  },
  {
   "cell_type": "code",
   "execution_count": 42,
   "id": "6ad548e7",
   "metadata": {},
   "outputs": [
    {
     "data": {
      "image/png": "[encoded data removed]",
      "text/plain": [
       "<Figure size 640x480 with 2 Axes>"
      ]
     },
     "metadata": {},
     "output_type": "display_data"
    }
   ],
   "source": [
    "# Correlation heatmap\n",
    "sns.heatmap(df.corr(numeric_only=True), annot=True, cmap=\"coolwarm\")\n",
    "plt.title(\"Correlation Heatmap\")\n",
    "plt.show()"
   ]
  },
  {
   "cell_type": "markdown",
   "id": "ec1ade72",
   "metadata": {},
   "source": [
    "INSIGHTS OF MY PROJECT"
   ]
  },
  {
   "cell_type": "code",
   "execution_count": 45,
   "id": "26d5b02c",
   "metadata": {},
   "outputs": [
    {
     "name": "stdout",
     "output_type": "stream",
     "text": [
      "Do you have Depression?\n",
      "No    NaN\n",
      "Yes   NaN\n",
      "Name: What is your CGPA?, dtype: float64\n"
     ]
    }
   ],
   "source": [
    "# Convert CGPA column to numeric (errors='coerce' will set invalid parsing as NaN)\n",
    "df[\"What is your CGPA?\"] = pd.to_numeric(df[\"What is your CGPA?\"], errors='coerce')\n",
    "\n",
    "# Average CGPA by depression status\n",
    "print(df.groupby(\"Do you have Depression?\")[\"What is your CGPA?\"].mean())"
   ]
  },
  {
   "cell_type": "markdown",
   "id": "7378a751",
   "metadata": {},
   "source": [
    "Summary Statistics"
   ]
  },
  {
   "cell_type": "code",
   "execution_count": 50,
   "id": "4abd9a46",
   "metadata": {},
   "outputs": [
    {
     "name": "stdout",
     "output_type": "stream",
     "text": [
      "Do you have Depression?\n",
      "No     66\n",
      "Yes    35\n",
      "Name: count, dtype: int64\n",
      "Do you have Anxiety?\n",
      "No     67\n",
      "Yes    34\n",
      "Name: count, dtype: int64\n"
     ]
    },
    {
     "data": {
      "text/html": [
       "<div>\n",
       "<style scoped>\n",
       "    .dataframe tbody tr th:only-of-type {\n",
       "        vertical-align: middle;\n",
       "    }\n",
       "\n",
       "    .dataframe tbody tr th {\n",
       "        vertical-align: top;\n",
       "    }\n",
       "\n",
       "    .dataframe thead th {\n",
       "        text-align: right;\n",
       "    }\n",
       "</style>\n",
       "<table border=\"1\" class=\"dataframe\">\n",
       "  <thead>\n",
       "    <tr style=\"text-align: right;\">\n",
       "      <th>Do you have Anxiety?</th>\n",
       "      <th>No</th>\n",
       "      <th>Yes</th>\n",
       "      <th>All</th>\n",
       "    </tr>\n",
       "    <tr>\n",
       "      <th>Do you have Depression?</th>\n",
       "      <th></th>\n",
       "      <th></th>\n",
       "      <th></th>\n",
       "    </tr>\n",
       "  </thead>\n",
       "  <tbody>\n",
       "    <tr>\n",
       "      <th>No</th>\n",
       "      <td>50</td>\n",
       "      <td>16</td>\n",
       "      <td>66</td>\n",
       "    </tr>\n",
       "    <tr>\n",
       "      <th>Yes</th>\n",
       "      <td>17</td>\n",
       "      <td>18</td>\n",
       "      <td>35</td>\n",
       "    </tr>\n",
       "    <tr>\n",
       "      <th>All</th>\n",
       "      <td>67</td>\n",
       "      <td>34</td>\n",
       "      <td>101</td>\n",
       "    </tr>\n",
       "  </tbody>\n",
       "</table>\n",
       "</div>"
      ],
      "text/plain": [
       "Do you have Anxiety?     No  Yes  All\n",
       "Do you have Depression?              \n",
       "No                       50   16   66\n",
       "Yes                      17   18   35\n",
       "All                      67   34  101"
      ]
     },
     "execution_count": 50,
     "metadata": {},
     "output_type": "execute_result"
    }
   ],
   "source": [
    "# Count of Depression and Anxiety\n",
    "print(df[\"Do you have Depression?\"].value_counts())\n",
    "print(df[\"Do you have Anxiety?\"].value_counts())\n",
    "\n",
    "# Cross-tab → relation between Depression & Anxiety\n",
    "pd.crosstab(df[\"Do you have Depression?\"], df[\"Do you have Anxiety?\"], margins=True)\n"
   ]
  },
  {
   "cell_type": "code",
   "execution_count": 57,
   "id": "feb31352",
   "metadata": {},
   "outputs": [
    {
     "name": "stdout",
     "output_type": "stream",
     "text": [
      "Depression: Do you have Depression?\n",
      "No     66\n",
      "Yes    35\n",
      "Name: count, dtype: int64\n",
      "Anxiety: Do you have Anxiety?\n",
      "No     67\n",
      "Yes    34\n",
      "Name: count, dtype: int64\n",
      "Panic Attack: Do you have Panic attack?\n",
      "No     68\n",
      "Yes    33\n",
      "Name: count, dtype: int64\n"
     ]
    },
    {
     "name": "stderr",
     "output_type": "stream",
     "text": [
      "C:\\Users\\User\\AppData\\Local\\Temp\\ipykernel_19300\\2604504104.py:14: MatplotlibDeprecationWarning: The 'labels' parameter of boxplot() has been renamed 'tick_labels' since Matplotlib 3.9; support for the old name will be dropped in 3.11.\n",
      "  plt.boxplot([df[df['Do you have Depression?'] == 'Yes']['What is your CGPA?'],\n"
     ]
    },
    {
     "data": {
      "image/png": "[encoded data removed]",
      "text/plain": [
       "<Figure size 800x600 with 1 Axes>"
      ]
     },
     "metadata": {},
     "output_type": "display_data"
    },
    {
     "name": "stdout",
     "output_type": "stream",
     "text": [
      "Treatment Seeking Behavior: Did you seek any specialist for a treatment?\n",
      "No     95\n",
      "Yes     6\n",
      "Name: count, dtype: int64\n"
     ]
    }
   ],
   "source": [
    "#Mental Health Prevalence\n",
    "depression_count = df['Do you have Depression?'].value_counts()\n",
    "anxiety_count = df['Do you have Anxiety?'].value_counts()\n",
    "panic_attack_count = df['Do you have Panic attack?'].value_counts()\n",
    "\n",
    "print(\"Depression:\", depression_count)\n",
    "print(\"Anxiety:\", anxiety_count)\n",
    "print(\"Panic Attack:\", panic_attack_count)\n",
    "#CGPA vs Mental Health\n",
    "import matplotlib.pyplot as plt\n",
    "\n",
    "# Boxplot of CGPA vs Depression\n",
    "plt.figure(figsize=(8,6))\n",
    "plt.boxplot([df[df['Do you have Depression?'] == 'Yes']['What is your CGPA?'], \n",
    "             df[df['Do you have Depression?'] == 'No']['What is your CGPA?']], \n",
    "            labels=['Depression', 'No Depression'])\n",
    "plt.title('CGPA Distribution by Depression Status')\n",
    "plt.show()\n",
    "#Treatment-Seeking Behavior\n",
    "treatment_count = df['Did you seek any specialist for a treatment?'].value_counts()\n",
    "print(\"Treatment Seeking Behavior:\", treatment_count)\n"
   ]
  },
  {
   "cell_type": "code",
   "execution_count": null,
   "id": "07365405",
   "metadata": {},
   "outputs": [],
   "source": []
  }
 ],
 "metadata": {
  "kernelspec": {
   "display_name": "base",
   "language": "python",
   "name": "python3"
  },
  "language_info": {
   "codemirror_mode": {
    "name": "ipython",
    "version": 3
   },
   "file_extension": ".py",
   "mimetype": "text/x-python",
   "name": "python",
   "nbconvert_exporter": "python",
   "pygments_lexer": "ipython3",
   "version": "3.13.5"
  }
 },
 "nbformat": 4,
 "nbformat_minor": 5
}
